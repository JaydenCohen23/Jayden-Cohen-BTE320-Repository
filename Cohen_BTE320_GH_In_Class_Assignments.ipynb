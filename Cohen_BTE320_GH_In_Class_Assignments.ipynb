{
  "nbformat": 4,
  "nbformat_minor": 0,
  "metadata": {
    "colab": {
      "provenance": [],
      "authorship_tag": "ABX9TyPcznIGRd79nHuQyc9SwT6t",
      "include_colab_link": true
    },
    "kernelspec": {
      "name": "python3",
      "display_name": "Python 3"
    },
    "language_info": {
      "name": "python"
    }
  },
  "cells": [
    {
      "cell_type": "markdown",
      "metadata": {
        "id": "view-in-github",
        "colab_type": "text"
      },
      "source": [
        "<a href=\"https://colab.research.google.com/github/JaydenCohen23/Jayden-Cohen-BTE320-Repository/blob/main/Cohen_BTE320_GH_In_Class_Assignments.ipynb\" target=\"_parent\"><img src=\"https://colab.research.google.com/assets/colab-badge.svg\" alt=\"Open In Colab\"/></a>"
      ]
    },
    {
      "cell_type": "code",
      "execution_count": 1,
      "metadata": {
        "colab": {
          "base_uri": "https://localhost:8080/"
        },
        "id": "ecRKORb_-sAy",
        "outputId": "3b0bd57c-4058-40c6-ec84-89702bbd017c"
      },
      "outputs": [
        {
          "output_type": "stream",
          "name": "stdout",
          "text": [
            "244.92000000000002\n"
          ]
        }
      ],
      "source": [
        "# FIRST IN CLASS ASSIGNMENT - Shape Area Calculator\n",
        "h = 10\n",
        "r = 3\n",
        "pi = 3.14\n",
        "SurfaceArea = (2*pi*(r**2))+(2*pi*r*h)\n",
        "print(SurfaceArea)"
      ]
    },
    {
      "cell_type": "code",
      "source": [
        "# IN CLASS ASSIGNMENT 2: ROCK PAPER SCISSORS\n",
        "\n",
        "Player_1 = input(\"Choose rock, paper, or scissors (r->rock, p->paper, s->scissors): \")\n",
        "Player_2 = input(\"Choose rock, paper, or scissors (r->rock, p->paper, s->scissors): \")\n",
        "\n",
        "if Player_1 == 'r':\n",
        "  if Player_2 == 'r':\n",
        "    print(\"The match is a draw\")\n",
        "  elif Player_2 == 'p':\n",
        "    print(\"Player 2 wins the match\")\n",
        "  else:\n",
        "    print(\"Player 1 wins the match\")\n",
        "elif Player_1 == 'p':\n",
        "  if Player_2 == 'r':\n",
        "    print(\"Player 1 wins the match\")\n",
        "  elif Player_2 == 'p':\n",
        "    print(\"The match is a draw\")\n",
        "  else:\n",
        "    print(\"Player 2 wins the match\")\n",
        "elif Player_1 == 's':\n",
        "  if Player_2 == 'r':\n",
        "    print(\"Player 2 wins the match\")\n",
        "  elif Player_2 == 'p':\n",
        "    print(\"Player 1 wins the match\")\n",
        "  else:\n",
        "    print(\"The match is a draw\")\n",
        "\n",
        "print(\"The match is now over\")"
      ],
      "metadata": {
        "colab": {
          "base_uri": "https://localhost:8080/",
          "height": 356
        },
        "id": "JETdgm3T-5Ys",
        "outputId": "4c143d62-c020-4a43-d233-16b7e038c7ce"
      },
      "execution_count": 2,
      "outputs": [
        {
          "output_type": "error",
          "ename": "KeyboardInterrupt",
          "evalue": "Interrupted by user",
          "traceback": [
            "\u001b[0;31m---------------------------------------------------------------------------\u001b[0m",
            "\u001b[0;31mKeyboardInterrupt\u001b[0m                         Traceback (most recent call last)",
            "\u001b[0;32m<ipython-input-2-22cc393d887e>\u001b[0m in \u001b[0;36m<cell line: 3>\u001b[0;34m()\u001b[0m\n\u001b[1;32m      1\u001b[0m \u001b[0;31m# IN CLASS ASSIGNMENT 2: ROCK PAPER SCISSORS\u001b[0m\u001b[0;34m\u001b[0m\u001b[0;34m\u001b[0m\u001b[0m\n\u001b[1;32m      2\u001b[0m \u001b[0;34m\u001b[0m\u001b[0m\n\u001b[0;32m----> 3\u001b[0;31m \u001b[0mPlayer_1\u001b[0m \u001b[0;34m=\u001b[0m \u001b[0minput\u001b[0m\u001b[0;34m(\u001b[0m\u001b[0;34m\"Choose rock, paper, or scissors (r->rock, p->paper, s->scissors): \"\u001b[0m\u001b[0;34m)\u001b[0m\u001b[0;34m\u001b[0m\u001b[0;34m\u001b[0m\u001b[0m\n\u001b[0m\u001b[1;32m      4\u001b[0m \u001b[0mPlayer_2\u001b[0m \u001b[0;34m=\u001b[0m \u001b[0minput\u001b[0m\u001b[0;34m(\u001b[0m\u001b[0;34m\"Choose rock, paper, or scissors (r->rock, p->paper, s->scissors): \"\u001b[0m\u001b[0;34m)\u001b[0m\u001b[0;34m\u001b[0m\u001b[0;34m\u001b[0m\u001b[0m\n\u001b[1;32m      5\u001b[0m \u001b[0;34m\u001b[0m\u001b[0m\n",
            "\u001b[0;32m/usr/local/lib/python3.10/dist-packages/ipykernel/kernelbase.py\u001b[0m in \u001b[0;36mraw_input\u001b[0;34m(self, prompt)\u001b[0m\n\u001b[1;32m    849\u001b[0m                 \u001b[0;34m\"raw_input was called, but this frontend does not support input requests.\"\u001b[0m\u001b[0;34m\u001b[0m\u001b[0;34m\u001b[0m\u001b[0m\n\u001b[1;32m    850\u001b[0m             )\n\u001b[0;32m--> 851\u001b[0;31m         return self._input_request(str(prompt),\n\u001b[0m\u001b[1;32m    852\u001b[0m             \u001b[0mself\u001b[0m\u001b[0;34m.\u001b[0m\u001b[0m_parent_ident\u001b[0m\u001b[0;34m,\u001b[0m\u001b[0;34m\u001b[0m\u001b[0;34m\u001b[0m\u001b[0m\n\u001b[1;32m    853\u001b[0m             \u001b[0mself\u001b[0m\u001b[0;34m.\u001b[0m\u001b[0m_parent_header\u001b[0m\u001b[0;34m,\u001b[0m\u001b[0;34m\u001b[0m\u001b[0;34m\u001b[0m\u001b[0m\n",
            "\u001b[0;32m/usr/local/lib/python3.10/dist-packages/ipykernel/kernelbase.py\u001b[0m in \u001b[0;36m_input_request\u001b[0;34m(self, prompt, ident, parent, password)\u001b[0m\n\u001b[1;32m    893\u001b[0m             \u001b[0;32mexcept\u001b[0m \u001b[0mKeyboardInterrupt\u001b[0m\u001b[0;34m:\u001b[0m\u001b[0;34m\u001b[0m\u001b[0;34m\u001b[0m\u001b[0m\n\u001b[1;32m    894\u001b[0m                 \u001b[0;31m# re-raise KeyboardInterrupt, to truncate traceback\u001b[0m\u001b[0;34m\u001b[0m\u001b[0;34m\u001b[0m\u001b[0m\n\u001b[0;32m--> 895\u001b[0;31m                 \u001b[0;32mraise\u001b[0m \u001b[0mKeyboardInterrupt\u001b[0m\u001b[0;34m(\u001b[0m\u001b[0;34m\"Interrupted by user\"\u001b[0m\u001b[0;34m)\u001b[0m \u001b[0;32mfrom\u001b[0m \u001b[0;32mNone\u001b[0m\u001b[0;34m\u001b[0m\u001b[0;34m\u001b[0m\u001b[0m\n\u001b[0m\u001b[1;32m    896\u001b[0m             \u001b[0;32mexcept\u001b[0m \u001b[0mException\u001b[0m \u001b[0;32mas\u001b[0m \u001b[0me\u001b[0m\u001b[0;34m:\u001b[0m\u001b[0;34m\u001b[0m\u001b[0;34m\u001b[0m\u001b[0m\n\u001b[1;32m    897\u001b[0m                 \u001b[0mself\u001b[0m\u001b[0;34m.\u001b[0m\u001b[0mlog\u001b[0m\u001b[0;34m.\u001b[0m\u001b[0mwarning\u001b[0m\u001b[0;34m(\u001b[0m\u001b[0;34m\"Invalid Message:\"\u001b[0m\u001b[0;34m,\u001b[0m \u001b[0mexc_info\u001b[0m\u001b[0;34m=\u001b[0m\u001b[0;32mTrue\u001b[0m\u001b[0;34m)\u001b[0m\u001b[0;34m\u001b[0m\u001b[0;34m\u001b[0m\u001b[0m\n",
            "\u001b[0;31mKeyboardInterrupt\u001b[0m: Interrupted by user"
          ]
        }
      ]
    },
    {
      "cell_type": "code",
      "source": [
        "# In Class Assignment 3 - Numerical Calculator\n",
        "\n",
        "n1 = float(input(\"Enter number #1 here: \"))\n",
        "n2 = float(input(\"Enter number #2 here: \"))\n",
        "symbol = input(\"Enter the symbol here (+, -, *, /, or **):\")\n",
        "if symbol == '+':\n",
        "  print(n1 + n2)\n",
        "elif symbol == '-':\n",
        "  print(n1 - n2)\n",
        "elif symbol == '*':\n",
        "  print(n1 * n2)\n",
        "elif symbol == '/':\n",
        "  print(n1 / n2)\n",
        "elif symbol == '**':\n",
        "  print(n1 ** n2)\n",
        "else:\n",
        "  print(\"The function did not work\")"
      ],
      "metadata": {
        "id": "tawjmAIL--ej"
      },
      "execution_count": null,
      "outputs": []
    },
    {
      "cell_type": "code",
      "source": [
        "# In Class Assignment 4 - Parking Garage\n",
        "\n",
        "FlatRate = 5\n",
        "HourlyRate = 2.5\n",
        "\n",
        "for hour in range (1, 9, 1):\n",
        "  charge = FlatRate + hour * HourlyRate\n",
        "  if charge < 10:\n",
        "    charge = 10\n",
        "  elif charge > 20:\n",
        "    charge = 20\n",
        "  print(hour, charge)"
      ],
      "metadata": {
        "id": "iUiMRH2Y_BDc"
      },
      "execution_count": null,
      "outputs": []
    },
    {
      "cell_type": "code",
      "source": [
        "# In Class Assignment 5 - MOVIE THEATER PROBLEM\n",
        "Ticket = 10\n",
        "Fixedcosts = 200\n",
        "\n",
        "for Ad in range (0,201,25):\n",
        "  Additional = 2*round(ad**.5)\n",
        "  Profit = (20 + Additional)*10-200-ad\n",
        "\n",
        "  print(Ad, Profit)\n",
        "\n",
        "Flatrate = 5\n",
        "Hourlyrate = 2.5\n",
        "\n",
        "for Hour in range (1,9,1):\n",
        "  Charge = Flatrate + Hourlyrate * hour\n",
        "  if Charge < 10:\n",
        "    Charge = 10.0\n",
        "  elif Charge > 20:\n",
        "    Charge = 20.0\n",
        "\n",
        "  print(Hour, Charge)"
      ],
      "metadata": {
        "id": "tJVHH6Na_GOI"
      },
      "execution_count": null,
      "outputs": []
    },
    {
      "cell_type": "code",
      "source": [
        "# In Class Assignment 6 - Months2Numbers Dictionary\n",
        "\n",
        "months = {}\n",
        "\n",
        "names = [\"Jan\", \"Feb\", \"Mar\", \"Apr\", \"May\", \"Jun\", \"Jul\", \"Aug\", \"Sep\", \"Oct\", \"Nov\", \"Dec\"]\n",
        "numbers = [1, 2, 3, 4, 5, 6, 7, 8, 9, 10, 11, 12]\n",
        "\n",
        "for i in range(len(names)):\n",
        "  months[names[i]] = numbers[i]\n",
        "\n",
        "if i in numbers == 12:\n",
        "  print(\"HAPPY NEW YEAR\")\n",
        "\n",
        "print(months)"
      ],
      "metadata": {
        "id": "35r8v-wD_Jrm"
      },
      "execution_count": null,
      "outputs": []
    },
    {
      "cell_type": "code",
      "source": [
        "# In Class Assignment 7 - Fee Calcluation Assignment\n",
        "\n",
        "def calcFee(hours, decimals=2):\n",
        "  fee = 5 + 2.5 * hours\n",
        "  fee = round(fee, decimals)\n",
        "  return fee\n",
        "def displayFee(fee):\n",
        "  print(fee)\n",
        "\n",
        "\n",
        "hours_parked = float(input(\"Enter hours parked: \"))\n",
        "f = calcFee(hours_parked)\n",
        "displayFee(f)\n"
      ],
      "metadata": {
        "id": "g0xLVTj7_MoY"
      },
      "execution_count": null,
      "outputs": []
    },
    {
      "cell_type": "code",
      "source": [
        "# In Class Assignment 8 - Reverser (Recursion)\n",
        "\n",
        "def reverser(n):\n",
        "  if len(n) == 1:\n",
        "    return n\n",
        "  else:\n",
        "      return reverser(n[1:]) + n[0]\n",
        "\n",
        "reverser('Halloween')"
      ],
      "metadata": {
        "id": "u8F_wCTw_QKf"
      },
      "execution_count": null,
      "outputs": []
    },
    {
      "cell_type": "code",
      "source": [
        "# In Class Assignment 9 - Student Class Assignment\n",
        "\n",
        "class Student:\n",
        "  def __init__(self, name, number):\n",
        "    self.name = name\n",
        "    self.number = number\n",
        "    self.courses = []\n",
        "\n",
        "  def set_name(self, newname):\n",
        "    self.name = newname\n",
        "\n",
        "  def get_name(self):\n",
        "    return self.name\n",
        "\n",
        "  def __repr__(self):\n",
        "    return f'Name: {self.name}.'\n",
        "\n",
        "  def enroll(self, course):\n",
        "    if course not in self.courses:\n",
        "      self.courses.append(course)\n",
        "    else:\n",
        "      print(f'You have already enrolled in class: {course}')\n",
        "\n",
        "  def get_courses(self):\n",
        "    return self.courses"
      ],
      "metadata": {
        "id": "36supat-_Xqz"
      },
      "execution_count": null,
      "outputs": []
    }
  ]
}